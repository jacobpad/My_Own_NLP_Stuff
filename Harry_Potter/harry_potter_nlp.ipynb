{
  "nbformat": 4,
  "nbformat_minor": 0,
  "metadata": {
    "colab": {
      "name": "harry_potter_nlp.ipynb",
      "provenance": [],
      "collapsed_sections": [],
      "toc_visible": true,
      "authorship_tag": "ABX9TyPvNvGp3FcjiZc0Nr6ImB4w",
      "include_colab_link": true
    },
    "kernelspec": {
      "name": "python3",
      "display_name": "Python 3"
    }
  },
  "cells": [
    {
      "cell_type": "markdown",
      "metadata": {
        "id": "view-in-github",
        "colab_type": "text"
      },
      "source": [
        "<a href=\"https://colab.research.google.com/github/jacobpad/My_Own_NLP_Stuff/blob/master/Harry_Potter/harry_potter_nlp.ipynb\" target=\"_parent\"><img src=\"https://colab.research.google.com/assets/colab-badge.svg\" alt=\"Open In Colab\"/></a>"
      ]
    },
    {
      "cell_type": "markdown",
      "metadata": {
        "id": "rhSTR_gxqAGx",
        "colab_type": "text"
      },
      "source": [
        "# CHECKING OUT HARRY POTTER BOOK"
      ]
    },
    {
      "cell_type": "markdown",
      "metadata": {
        "id": "_UR8IK6bqWC3",
        "colab_type": "text"
      },
      "source": [
        "## Starting Timer"
      ]
    },
    {
      "cell_type": "code",
      "metadata": {
        "id": "L84NsFomckwn",
        "colab_type": "code",
        "colab": {}
      },
      "source": [
        "import time \n",
        "# Time the running of everything\n",
        "start_of_notebook_time = time.time()"
      ],
      "execution_count": 1,
      "outputs": []
    },
    {
      "cell_type": "markdown",
      "metadata": {
        "id": "YQXLqcXSqIUt",
        "colab_type": "text"
      },
      "source": [
        "## Imports"
      ]
    },
    {
      "cell_type": "code",
      "metadata": {
        "id": "b0pEJ79xcouY",
        "colab_type": "code",
        "colab": {}
      },
      "source": [
        "# Installations\n",
        "# import sys\n",
        "# if 'google.colab' in sys.modules:\n",
        "#     !python -m spacy download en_core_web_lg\n",
        "#     !pip install gensim"
      ],
      "execution_count": 2,
      "outputs": []
    },
    {
      "cell_type": "code",
      "metadata": {
        "id": "sIhMZwI6cuH8",
        "colab_type": "code",
        "colab": {}
      },
      "source": [
        "import pandas as pd\n",
        "from urllib import request\n",
        "import re\n",
        "\n",
        "#Natural Language Processing (NLP)\n",
        "import string\n",
        "import spacy\n",
        "import gensim\n",
        "from spacy.tokenizer import Tokenizer\n",
        "from gensim.corpora import Dictionary\n",
        "from gensim.models.ldamulticore import LdaMulticore\n",
        "from gensim.models.coherencemodel import CoherenceModel\n",
        "from gensim.parsing.preprocessing import STOPWORDS as SW\n",
        "from sklearn.decomposition import LatentDirichletAllocation, TruncatedSVD\n",
        "from sklearn.feature_extraction.text import CountVectorizer, TfidfVectorizer\n",
        "from sklearn.model_selection import GridSearchCV\n",
        "from pprint import pprint\n",
        "from wordcloud import STOPWORDS\n",
        "stopwords = set(STOPWORDS)"
      ],
      "execution_count": 3,
      "outputs": []
    },
    {
      "cell_type": "code",
      "metadata": {
        "id": "gI_2LyVVfRMs",
        "colab_type": "code",
        "colab": {}
      },
      "source": [
        "# Establish the English core web\n",
        "# Make sure to restart the runtime after running installations and libraries\n",
        "nlp = spacy.load('en_core_web_lg')"
      ],
      "execution_count": 4,
      "outputs": []
    },
    {
      "cell_type": "code",
      "metadata": {
        "id": "qwkubkQ1daLZ",
        "colab_type": "code",
        "colab": {}
      },
      "source": [
        "# Set the URL\n",
        "url_The_Philosophers_Stone = \"https://raw.githubusercontent.com/jacobpad/Deep-Learning/master/GPT2-HarryPotter-Training/books/Book%201%20-%20The%20Philosopher's%20Stone.txt\"\n",
        "\n",
        "# Reading in original text - it's a .txt\n",
        "text_The_Philosophers_Stone = request.urlopen(url_The_Philosophers_Stone)\n",
        "\n",
        "# Empty list for the text of the book\n",
        "corpus = []\n",
        "\n",
        "for line in text_The_Philosophers_Stone:\n",
        "\n",
        "  # Decoding as utf-8\n",
        "  decode_line = line.decode(\"utf-8\")\n",
        "\n",
        "  # Remove any new line characters\n",
        "  decode_line = decode_line.strip('\\n')\n",
        "\n",
        "  # Strip away any extra spaces\n",
        "  decode_line = decode_line.strip()\n",
        "\n",
        "  # Remove the end of page lines\n",
        "  # https://stackoverflow.com/questions/32015356/find-and-remove-a-string-starting-and-ending-with-a-specific-substring-in-python\n",
        "  decode_line = re.sub(r'Page.+Rowling', '', decode_line)\n",
        "\n",
        "  # Strip away any blank lines\n",
        "  decode_line = [line for line in decode_line.split('\\n') if line.strip() != '']\n",
        "  \n",
        "  # Add them all together - Bibbidi-bobbidi-boo\n",
        "  corpus.append(decode_line)\n",
        "\n",
        "# Remove empty lists within the corpus list\n",
        "corpus = [x for x in corpus if x]"
      ],
      "execution_count": 5,
      "outputs": []
    },
    {
      "cell_type": "code",
      "metadata": {
        "id": "2wkMTH6_dnjB",
        "colab_type": "code",
        "colab": {
          "base_uri": "https://localhost:8080/",
          "height": 407
        },
        "outputId": "d52cfb18-9bc3-42ff-be08-8ba49819c281"
      },
      "source": [
        "# Make it a DataFrame\n",
        "df = pd.DataFrame(corpus) \n",
        "\n",
        "# Rename the default column\n",
        "df.rename(columns={0 : 'original_text'}, inplace=True)\n",
        "\n",
        "# Remove rows that are strings of \"/\"\n",
        "df = df[~df['original_text'].str.contains(\"/\")]\n",
        "\n",
        "# View df\n",
        "df"
      ],
      "execution_count": 6,
      "outputs": [
        {
          "output_type": "execute_result",
          "data": {
            "text/html": [
              "<div>\n",
              "<style scoped>\n",
              "    .dataframe tbody tr th:only-of-type {\n",
              "        vertical-align: middle;\n",
              "    }\n",
              "\n",
              "    .dataframe tbody tr th {\n",
              "        vertical-align: top;\n",
              "    }\n",
              "\n",
              "    .dataframe thead th {\n",
              "        text-align: right;\n",
              "    }\n",
              "</style>\n",
              "<table border=\"1\" class=\"dataframe\">\n",
              "  <thead>\n",
              "    <tr style=\"text-align: right;\">\n",
              "      <th></th>\n",
              "      <th>original_text</th>\n",
              "    </tr>\n",
              "  </thead>\n",
              "  <tbody>\n",
              "    <tr>\n",
              "      <th>1</th>\n",
              "      <td>THE BOY WHO LIVED</td>\n",
              "    </tr>\n",
              "    <tr>\n",
              "      <th>2</th>\n",
              "      <td>Mr. and Mrs. Dursley, of number four, Privet D...</td>\n",
              "    </tr>\n",
              "    <tr>\n",
              "      <th>3</th>\n",
              "      <td>were proud to say that they were perfectly nor...</td>\n",
              "    </tr>\n",
              "    <tr>\n",
              "      <th>4</th>\n",
              "      <td>thank you very much. They were the last people...</td>\n",
              "    </tr>\n",
              "    <tr>\n",
              "      <th>5</th>\n",
              "      <td>expect to be involved in anything strange or</td>\n",
              "    </tr>\n",
              "    <tr>\n",
              "      <th>...</th>\n",
              "      <td>...</td>\n",
              "    </tr>\n",
              "    <tr>\n",
              "      <th>9792</th>\n",
              "      <td>shocked that anyone could be so unpleasant.</td>\n",
              "    </tr>\n",
              "    <tr>\n",
              "      <th>9793</th>\n",
              "      <td>“Oh, I will,” said Harry, and they were surpri...</td>\n",
              "    </tr>\n",
              "    <tr>\n",
              "      <th>9794</th>\n",
              "      <td>the grin that was spreading over his face. “ T...</td>\n",
              "    </tr>\n",
              "    <tr>\n",
              "      <th>9795</th>\n",
              "      <td>know we’re not allowed to use magic at home. I’m</td>\n",
              "    </tr>\n",
              "    <tr>\n",
              "      <th>9796</th>\n",
              "      <td>going to have a lot of fun with Dudley this su...</td>\n",
              "    </tr>\n",
              "  </tbody>\n",
              "</table>\n",
              "<p>9791 rows × 1 columns</p>\n",
              "</div>"
            ],
            "text/plain": [
              "                                          original_text\n",
              "1                                     THE BOY WHO LIVED\n",
              "2     Mr. and Mrs. Dursley, of number four, Privet D...\n",
              "3     were proud to say that they were perfectly nor...\n",
              "4     thank you very much. They were the last people...\n",
              "5          expect to be involved in anything strange or\n",
              "...                                                 ...\n",
              "9792        shocked that anyone could be so unpleasant.\n",
              "9793  “Oh, I will,” said Harry, and they were surpri...\n",
              "9794  the grin that was spreading over his face. “ T...\n",
              "9795   know we’re not allowed to use magic at home. I’m\n",
              "9796  going to have a lot of fun with Dudley this su...\n",
              "\n",
              "[9791 rows x 1 columns]"
            ]
          },
          "metadata": {
            "tags": []
          },
          "execution_count": 6
        }
      ]
    },
    {
      "cell_type": "markdown",
      "metadata": {
        "id": "KdMlTOdXoY4p",
        "colab_type": "text"
      },
      "source": [
        "## Tokenize For Removing Punctuation"
      ]
    },
    {
      "cell_type": "code",
      "metadata": {
        "id": "wTGv7TF_hI5S",
        "colab_type": "code",
        "colab": {
          "base_uri": "https://localhost:8080/",
          "height": 407
        },
        "outputId": "191f6ccd-e577-450c-bfe5-33b9e4f662c3"
      },
      "source": [
        "# Establish the English core web\n",
        "nlp = spacy.load('en_core_web_lg')\n",
        "\n",
        "\n",
        "# Tokenizer\n",
        "tokenizer = Tokenizer(nlp.vocab)\n",
        "\n",
        "# Tokenizer function\n",
        "def tokenize(text):\n",
        "    \"\"\"\n",
        "    Parses a string into a list of semantic units (words)\n",
        "    Args:\n",
        "        text (str): The string that the function will tokenize.\n",
        "    Returns:\n",
        "        list: tokens parsed\n",
        "    \"\"\"\n",
        "\n",
        "    tokens = re.sub(r'[^a-zA-Z 0-9]', '', text)\n",
        "\n",
        "    # Remove punctuation\n",
        "    tokens = re.sub('[%s]' % re.escape(string.punctuation), '', tokens)\n",
        "\n",
        "    # Make text lowercase and split it\n",
        "    tokens = tokens.lower().split()\n",
        "  \n",
        "    return tokens\n",
        "\n",
        "# Apply tokenizer\n",
        "df['tokens'] = df['original_text'].apply(tokenize)\n",
        "\n",
        "# Make tokens a string again\n",
        "df['tokens_back_to_text'] = [' '.join(map(str, l)) for l in df['tokens']]\n",
        "\n",
        "# View those tokens\n",
        "df"
      ],
      "execution_count": 7,
      "outputs": [
        {
          "output_type": "execute_result",
          "data": {
            "text/html": [
              "<div>\n",
              "<style scoped>\n",
              "    .dataframe tbody tr th:only-of-type {\n",
              "        vertical-align: middle;\n",
              "    }\n",
              "\n",
              "    .dataframe tbody tr th {\n",
              "        vertical-align: top;\n",
              "    }\n",
              "\n",
              "    .dataframe thead th {\n",
              "        text-align: right;\n",
              "    }\n",
              "</style>\n",
              "<table border=\"1\" class=\"dataframe\">\n",
              "  <thead>\n",
              "    <tr style=\"text-align: right;\">\n",
              "      <th></th>\n",
              "      <th>original_text</th>\n",
              "      <th>tokens</th>\n",
              "      <th>tokens_back_to_text</th>\n",
              "    </tr>\n",
              "  </thead>\n",
              "  <tbody>\n",
              "    <tr>\n",
              "      <th>1</th>\n",
              "      <td>THE BOY WHO LIVED</td>\n",
              "      <td>[the, boy, who, lived]</td>\n",
              "      <td>the boy who lived</td>\n",
              "    </tr>\n",
              "    <tr>\n",
              "      <th>2</th>\n",
              "      <td>Mr. and Mrs. Dursley, of number four, Privet D...</td>\n",
              "      <td>[mr, and, mrs, dursley, of, number, four, priv...</td>\n",
              "      <td>mr and mrs dursley of number four privet drive</td>\n",
              "    </tr>\n",
              "    <tr>\n",
              "      <th>3</th>\n",
              "      <td>were proud to say that they were perfectly nor...</td>\n",
              "      <td>[were, proud, to, say, that, they, were, perfe...</td>\n",
              "      <td>were proud to say that they were perfectly normal</td>\n",
              "    </tr>\n",
              "    <tr>\n",
              "      <th>4</th>\n",
              "      <td>thank you very much. They were the last people...</td>\n",
              "      <td>[thank, you, very, much, they, were, the, last...</td>\n",
              "      <td>thank you very much they were the last people ...</td>\n",
              "    </tr>\n",
              "    <tr>\n",
              "      <th>5</th>\n",
              "      <td>expect to be involved in anything strange or</td>\n",
              "      <td>[expect, to, be, involved, in, anything, stran...</td>\n",
              "      <td>expect to be involved in anything strange or</td>\n",
              "    </tr>\n",
              "    <tr>\n",
              "      <th>...</th>\n",
              "      <td>...</td>\n",
              "      <td>...</td>\n",
              "      <td>...</td>\n",
              "    </tr>\n",
              "    <tr>\n",
              "      <th>9792</th>\n",
              "      <td>shocked that anyone could be so unpleasant.</td>\n",
              "      <td>[shocked, that, anyone, could, be, so, unpleas...</td>\n",
              "      <td>shocked that anyone could be so unpleasant</td>\n",
              "    </tr>\n",
              "    <tr>\n",
              "      <th>9793</th>\n",
              "      <td>“Oh, I will,” said Harry, and they were surpri...</td>\n",
              "      <td>[oh, i, will, said, harry, and, they, were, su...</td>\n",
              "      <td>oh i will said harry and they were surprised at</td>\n",
              "    </tr>\n",
              "    <tr>\n",
              "      <th>9794</th>\n",
              "      <td>the grin that was spreading over his face. “ T...</td>\n",
              "      <td>[the, grin, that, was, spreading, over, his, f...</td>\n",
              "      <td>the grin that was spreading over his face they...</td>\n",
              "    </tr>\n",
              "    <tr>\n",
              "      <th>9795</th>\n",
              "      <td>know we’re not allowed to use magic at home. I’m</td>\n",
              "      <td>[know, were, not, allowed, to, use, magic, at,...</td>\n",
              "      <td>know were not allowed to use magic at home im</td>\n",
              "    </tr>\n",
              "    <tr>\n",
              "      <th>9796</th>\n",
              "      <td>going to have a lot of fun with Dudley this su...</td>\n",
              "      <td>[going, to, have, a, lot, of, fun, with, dudle...</td>\n",
              "      <td>going to have a lot of fun with dudley this su...</td>\n",
              "    </tr>\n",
              "  </tbody>\n",
              "</table>\n",
              "<p>9791 rows × 3 columns</p>\n",
              "</div>"
            ],
            "text/plain": [
              "                                          original_text  ...                                tokens_back_to_text\n",
              "1                                     THE BOY WHO LIVED  ...                                  the boy who lived\n",
              "2     Mr. and Mrs. Dursley, of number four, Privet D...  ...     mr and mrs dursley of number four privet drive\n",
              "3     were proud to say that they were perfectly nor...  ...  were proud to say that they were perfectly normal\n",
              "4     thank you very much. They were the last people...  ...  thank you very much they were the last people ...\n",
              "5          expect to be involved in anything strange or  ...       expect to be involved in anything strange or\n",
              "...                                                 ...  ...                                                ...\n",
              "9792        shocked that anyone could be so unpleasant.  ...         shocked that anyone could be so unpleasant\n",
              "9793  “Oh, I will,” said Harry, and they were surpri...  ...    oh i will said harry and they were surprised at\n",
              "9794  the grin that was spreading over his face. “ T...  ...  the grin that was spreading over his face they...\n",
              "9795   know we’re not allowed to use magic at home. I’m  ...      know were not allowed to use magic at home im\n",
              "9796  going to have a lot of fun with Dudley this su...  ...  going to have a lot of fun with dudley this su...\n",
              "\n",
              "[9791 rows x 3 columns]"
            ]
          },
          "metadata": {
            "tags": []
          },
          "execution_count": 7
        }
      ]
    },
    {
      "cell_type": "markdown",
      "metadata": {
        "id": "oYGQk4o4pRn_",
        "colab_type": "text"
      },
      "source": [
        "## Tokenize For Removing STOPWORDS"
      ]
    },
    {
      "cell_type": "code",
      "metadata": {
        "id": "HICb9X7geI6a",
        "colab_type": "code",
        "colab": {
          "base_uri": "https://localhost:8080/",
          "height": 407
        },
        "outputId": "6abc5794-6762-42a7-c320-825cba116f36"
      },
      "source": [
        "# Custom stopwords\n",
        "custom_stopwords = ['hi','\\n','\\n\\n', '&amp;', ' ', '.', '-', 'got', \"it's\", 'it’s', \"i'm\", 'i’m', 'im', 'want', 'like', '$', '@']\n",
        "\n",
        "# Customize stop words by adding to the default list\n",
        "STOP_WORDS = nlp.Defaults.stop_words.union(custom_stopwords)\n",
        "\n",
        "# ALL_STOP_WORDS = spacy + gensim + wordcloud\n",
        "ALL_STOP_WORDS = STOP_WORDS.union(SW).union(stopwords)\n",
        "\n",
        "\n",
        "tokens = []\n",
        "\n",
        "for doc in tokenizer.pipe(df['tokens_back_to_text'], batch_size=500):\n",
        "    doc_tokens = []    \n",
        "    for token in doc: \n",
        "        if token.text.lower() not in STOP_WORDS:\n",
        "          doc_tokens.append(token.text.lower())   \n",
        "    tokens.append(doc_tokens)\n",
        "\n",
        "# Makes tokens column\n",
        "df['tokens'] = tokens\n",
        "\n",
        "# Make tokens a string again\n",
        "df['tokens_back_to_text'] = [' '.join(map(str, l)) for l in df['tokens']]\n",
        "\n",
        "# View df\n",
        "df"
      ],
      "execution_count": 8,
      "outputs": [
        {
          "output_type": "execute_result",
          "data": {
            "text/html": [
              "<div>\n",
              "<style scoped>\n",
              "    .dataframe tbody tr th:only-of-type {\n",
              "        vertical-align: middle;\n",
              "    }\n",
              "\n",
              "    .dataframe tbody tr th {\n",
              "        vertical-align: top;\n",
              "    }\n",
              "\n",
              "    .dataframe thead th {\n",
              "        text-align: right;\n",
              "    }\n",
              "</style>\n",
              "<table border=\"1\" class=\"dataframe\">\n",
              "  <thead>\n",
              "    <tr style=\"text-align: right;\">\n",
              "      <th></th>\n",
              "      <th>original_text</th>\n",
              "      <th>tokens</th>\n",
              "      <th>tokens_back_to_text</th>\n",
              "    </tr>\n",
              "  </thead>\n",
              "  <tbody>\n",
              "    <tr>\n",
              "      <th>1</th>\n",
              "      <td>THE BOY WHO LIVED</td>\n",
              "      <td>[boy, lived]</td>\n",
              "      <td>boy lived</td>\n",
              "    </tr>\n",
              "    <tr>\n",
              "      <th>2</th>\n",
              "      <td>Mr. and Mrs. Dursley, of number four, Privet D...</td>\n",
              "      <td>[mr, mrs, dursley, number, privet, drive]</td>\n",
              "      <td>mr mrs dursley number privet drive</td>\n",
              "    </tr>\n",
              "    <tr>\n",
              "      <th>3</th>\n",
              "      <td>were proud to say that they were perfectly nor...</td>\n",
              "      <td>[proud, perfectly, normal]</td>\n",
              "      <td>proud perfectly normal</td>\n",
              "    </tr>\n",
              "    <tr>\n",
              "      <th>4</th>\n",
              "      <td>thank you very much. They were the last people...</td>\n",
              "      <td>[thank, people, youd]</td>\n",
              "      <td>thank people youd</td>\n",
              "    </tr>\n",
              "    <tr>\n",
              "      <th>5</th>\n",
              "      <td>expect to be involved in anything strange or</td>\n",
              "      <td>[expect, involved, strange]</td>\n",
              "      <td>expect involved strange</td>\n",
              "    </tr>\n",
              "    <tr>\n",
              "      <th>...</th>\n",
              "      <td>...</td>\n",
              "      <td>...</td>\n",
              "      <td>...</td>\n",
              "    </tr>\n",
              "    <tr>\n",
              "      <th>9792</th>\n",
              "      <td>shocked that anyone could be so unpleasant.</td>\n",
              "      <td>[shocked, unpleasant]</td>\n",
              "      <td>shocked unpleasant</td>\n",
              "    </tr>\n",
              "    <tr>\n",
              "      <th>9793</th>\n",
              "      <td>“Oh, I will,” said Harry, and they were surpri...</td>\n",
              "      <td>[oh, said, harry, surprised]</td>\n",
              "      <td>oh said harry surprised</td>\n",
              "    </tr>\n",
              "    <tr>\n",
              "      <th>9794</th>\n",
              "      <td>the grin that was spreading over his face. “ T...</td>\n",
              "      <td>[grin, spreading, face, dont]</td>\n",
              "      <td>grin spreading face dont</td>\n",
              "    </tr>\n",
              "    <tr>\n",
              "      <th>9795</th>\n",
              "      <td>know we’re not allowed to use magic at home. I’m</td>\n",
              "      <td>[know, allowed, use, magic, home]</td>\n",
              "      <td>know allowed use magic home</td>\n",
              "    </tr>\n",
              "    <tr>\n",
              "      <th>9796</th>\n",
              "      <td>going to have a lot of fun with Dudley this su...</td>\n",
              "      <td>[going, lot, fun, dudley, summer]</td>\n",
              "      <td>going lot fun dudley summer</td>\n",
              "    </tr>\n",
              "  </tbody>\n",
              "</table>\n",
              "<p>9791 rows × 3 columns</p>\n",
              "</div>"
            ],
            "text/plain": [
              "                                          original_text  ...                 tokens_back_to_text\n",
              "1                                     THE BOY WHO LIVED  ...                           boy lived\n",
              "2     Mr. and Mrs. Dursley, of number four, Privet D...  ...  mr mrs dursley number privet drive\n",
              "3     were proud to say that they were perfectly nor...  ...              proud perfectly normal\n",
              "4     thank you very much. They were the last people...  ...                   thank people youd\n",
              "5          expect to be involved in anything strange or  ...             expect involved strange\n",
              "...                                                 ...  ...                                 ...\n",
              "9792        shocked that anyone could be so unpleasant.  ...                  shocked unpleasant\n",
              "9793  “Oh, I will,” said Harry, and they were surpri...  ...             oh said harry surprised\n",
              "9794  the grin that was spreading over his face. “ T...  ...            grin spreading face dont\n",
              "9795   know we’re not allowed to use magic at home. I’m  ...         know allowed use magic home\n",
              "9796  going to have a lot of fun with Dudley this su...  ...         going lot fun dudley summer\n",
              "\n",
              "[9791 rows x 3 columns]"
            ]
          },
          "metadata": {
            "tags": []
          },
          "execution_count": 8
        }
      ]
    },
    {
      "cell_type": "markdown",
      "metadata": {
        "id": "7Tlbw8C4q6CI",
        "colab_type": "text"
      },
      "source": [
        "## Lemmatization"
      ]
    },
    {
      "cell_type": "code",
      "metadata": {
        "id": "oAJVvpUVuV4R",
        "colab_type": "code",
        "colab": {}
      },
      "source": [
        "# Timing Start\n",
        "lemma_start_time = time.time()"
      ],
      "execution_count": 9,
      "outputs": []
    },
    {
      "cell_type": "code",
      "metadata": {
        "id": "_t2vXpjwk8Id",
        "colab_type": "code",
        "colab": {
          "base_uri": "https://localhost:8080/",
          "height": 407
        },
        "outputId": "24192689-b802-495f-df5e-ab5aac42870b"
      },
      "source": [
        "def get_lemmas(text):\n",
        "    '''Used to lemmatize the processed tweets'''\n",
        "    lemmas = []\n",
        "    \n",
        "    doc = nlp(text)\n",
        "    \n",
        "    # Something goes here :P\n",
        "    for token in doc: \n",
        "        if ((token.is_stop == False) and (token.is_punct == False)) and (token.pos_ != 'PRON'):\n",
        "            lemmas.append(token.lemma_)\n",
        "    \n",
        "    return lemmas\n",
        "\n",
        "df['lemmas'] = df['tokens_back_to_text'].apply(get_lemmas)\n",
        "\n",
        "# Make lemmas a string again\n",
        "df['lemmas_text'] = [' '.join(map(str, l)) for l in df['lemmas']]\n",
        "\n",
        "# Drop and rename coolumns\n",
        "df.drop(columns={'tokens','tokens_back_to_text'}, axis=1, inplace=True)\n",
        "df.rename(columns={'lemas':'lemma_tokens', 'lemmas_back_to_text':'lemma_text'}, inplace=True)\n",
        "\n",
        "# View df\n",
        "df"
      ],
      "execution_count": 10,
      "outputs": [
        {
          "output_type": "execute_result",
          "data": {
            "text/html": [
              "<div>\n",
              "<style scoped>\n",
              "    .dataframe tbody tr th:only-of-type {\n",
              "        vertical-align: middle;\n",
              "    }\n",
              "\n",
              "    .dataframe tbody tr th {\n",
              "        vertical-align: top;\n",
              "    }\n",
              "\n",
              "    .dataframe thead th {\n",
              "        text-align: right;\n",
              "    }\n",
              "</style>\n",
              "<table border=\"1\" class=\"dataframe\">\n",
              "  <thead>\n",
              "    <tr style=\"text-align: right;\">\n",
              "      <th></th>\n",
              "      <th>original_text</th>\n",
              "      <th>lemmas</th>\n",
              "      <th>lemmas_text</th>\n",
              "    </tr>\n",
              "  </thead>\n",
              "  <tbody>\n",
              "    <tr>\n",
              "      <th>1</th>\n",
              "      <td>THE BOY WHO LIVED</td>\n",
              "      <td>[boy, live]</td>\n",
              "      <td>boy live</td>\n",
              "    </tr>\n",
              "    <tr>\n",
              "      <th>2</th>\n",
              "      <td>Mr. and Mrs. Dursley, of number four, Privet D...</td>\n",
              "      <td>[mr, mrs, dursley, number, privet, drive]</td>\n",
              "      <td>mr mrs dursley number privet drive</td>\n",
              "    </tr>\n",
              "    <tr>\n",
              "      <th>3</th>\n",
              "      <td>were proud to say that they were perfectly nor...</td>\n",
              "      <td>[proud, perfectly, normal]</td>\n",
              "      <td>proud perfectly normal</td>\n",
              "    </tr>\n",
              "    <tr>\n",
              "      <th>4</th>\n",
              "      <td>thank you very much. They were the last people...</td>\n",
              "      <td>[thank, people, would]</td>\n",
              "      <td>thank people would</td>\n",
              "    </tr>\n",
              "    <tr>\n",
              "      <th>5</th>\n",
              "      <td>expect to be involved in anything strange or</td>\n",
              "      <td>[expect, involve, strange]</td>\n",
              "      <td>expect involve strange</td>\n",
              "    </tr>\n",
              "    <tr>\n",
              "      <th>...</th>\n",
              "      <td>...</td>\n",
              "      <td>...</td>\n",
              "      <td>...</td>\n",
              "    </tr>\n",
              "    <tr>\n",
              "      <th>9792</th>\n",
              "      <td>shocked that anyone could be so unpleasant.</td>\n",
              "      <td>[shock, unpleasant]</td>\n",
              "      <td>shock unpleasant</td>\n",
              "    </tr>\n",
              "    <tr>\n",
              "      <th>9793</th>\n",
              "      <td>“Oh, I will,” said Harry, and they were surpri...</td>\n",
              "      <td>[oh, say, harry, surprise]</td>\n",
              "      <td>oh say harry surprise</td>\n",
              "    </tr>\n",
              "    <tr>\n",
              "      <th>9794</th>\n",
              "      <td>the grin that was spreading over his face. “ T...</td>\n",
              "      <td>[grin, spread, face, not]</td>\n",
              "      <td>grin spread face not</td>\n",
              "    </tr>\n",
              "    <tr>\n",
              "      <th>9795</th>\n",
              "      <td>know we’re not allowed to use magic at home. I’m</td>\n",
              "      <td>[know, allow, use, magic, home]</td>\n",
              "      <td>know allow use magic home</td>\n",
              "    </tr>\n",
              "    <tr>\n",
              "      <th>9796</th>\n",
              "      <td>going to have a lot of fun with Dudley this su...</td>\n",
              "      <td>[go, lot, fun, dudley, summer]</td>\n",
              "      <td>go lot fun dudley summer</td>\n",
              "    </tr>\n",
              "  </tbody>\n",
              "</table>\n",
              "<p>9791 rows × 3 columns</p>\n",
              "</div>"
            ],
            "text/plain": [
              "                                          original_text  ...                         lemmas_text\n",
              "1                                     THE BOY WHO LIVED  ...                            boy live\n",
              "2     Mr. and Mrs. Dursley, of number four, Privet D...  ...  mr mrs dursley number privet drive\n",
              "3     were proud to say that they were perfectly nor...  ...              proud perfectly normal\n",
              "4     thank you very much. They were the last people...  ...                  thank people would\n",
              "5          expect to be involved in anything strange or  ...              expect involve strange\n",
              "...                                                 ...  ...                                 ...\n",
              "9792        shocked that anyone could be so unpleasant.  ...                    shock unpleasant\n",
              "9793  “Oh, I will,” said Harry, and they were surpri...  ...               oh say harry surprise\n",
              "9794  the grin that was spreading over his face. “ T...  ...                grin spread face not\n",
              "9795   know we’re not allowed to use magic at home. I’m  ...           know allow use magic home\n",
              "9796  going to have a lot of fun with Dudley this su...  ...            go lot fun dudley summer\n",
              "\n",
              "[9791 rows x 3 columns]"
            ]
          },
          "metadata": {
            "tags": []
          },
          "execution_count": 10
        }
      ]
    },
    {
      "cell_type": "code",
      "metadata": {
        "id": "HymKFVI5ucpo",
        "colab_type": "code",
        "colab": {
          "base_uri": "https://localhost:8080/",
          "height": 35
        },
        "outputId": "d7c253d7-a5ba-4412-b642-f10816c5d54c"
      },
      "source": [
        "# Timing End\n",
        "lemma_end_time = time.time()\n",
        "\n",
        "# Lemma total time\n",
        "lemma_total = lemma_end_time - lemma_start_time\n",
        "\n",
        "#Printing Lemmetization Time\n",
        "print('Lemmatization took {:.2f} seconds to finish'.format(lemma_total))"
      ],
      "execution_count": 11,
      "outputs": [
        {
          "output_type": "stream",
          "text": [
            "Lemmatization took 85.38 seconds to finish\n"
          ],
          "name": "stdout"
        }
      ]
    },
    {
      "cell_type": "markdown",
      "metadata": {
        "id": "8bRhw_dTvaUg",
        "colab_type": "text"
      },
      "source": [
        "## Notebook Ending Timer"
      ]
    },
    {
      "cell_type": "code",
      "metadata": {
        "id": "giS76LOwvol7",
        "colab_type": "code",
        "colab": {
          "base_uri": "https://localhost:8080/",
          "height": 52
        },
        "outputId": "644ebf25-21ee-4418-e8ff-24848d57f780"
      },
      "source": [
        "end_of_notebook_time = time.time()\n",
        "total_notebook_time_seconds = end_of_notebook_time - start_of_notebook_time\n",
        "total_running_time_of_notebook_minutes = (end_of_notebook_time - start_of_notebook_time) / 60\n",
        "\n",
        "print('Duration for the entire notebook to run: {:.2f} seconds.'.format(total_notebook_time_seconds))\n",
        "print('Which is {:.2f} minutes.'.format(total_running_time_of_notebook_minutes))"
      ],
      "execution_count": 12,
      "outputs": [
        {
          "output_type": "stream",
          "text": [
            "Duration for the entire notebook to run: 113.22 seconds.\n",
            "Which is 1.89 minutes.\n"
          ],
          "name": "stdout"
        }
      ]
    }
  ]
}